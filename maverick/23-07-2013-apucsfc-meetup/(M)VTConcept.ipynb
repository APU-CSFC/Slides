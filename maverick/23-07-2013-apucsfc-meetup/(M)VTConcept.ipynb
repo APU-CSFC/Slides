{
 "metadata": {
  "name": "(M)VTConcept"
 },
 "nbformat": 3,
 "nbformat_minor": 0,
 "worksheets": [
  {
   "cells": [
    {
     "cell_type": "markdown",
     "metadata": {},
     "source": [
      "# Concepts to know about\n",
      "\n",
      "* **MVC** - Model-View-Controller\n",
      "* **MVT** - Model-View-Template\n",
      "* Links to read from:\n",
      "    * https://en.wikipedia.org/wiki/Model-view-controller\n",
      "    * http://www.codinghorror.com/blog/2008/05/understanding-model-view-controller.html\n",
      "\n",
      "# Example of large-scale MVC/T Web frameworks/CMS in python\n",
      "* Plone - <http://plone.org>\n",
      "* Django (_D_ is silent) - <https://www.djangoproject.com>\n",
      "* Pyramid - <http://www.pylonsproject.org/projects\u200e>\n",
      "\n",
      "# Minimalistic MVC/T Web frameworks\n",
      "* Bottle - <http://bottlepy.org/\u200e>\n",
      "* Flask - <http://flask.pocoo.org>\n",
      "* web.py - <http://webpy.org>"
     ]
    },
    {
     "cell_type": "markdown",
     "metadata": {},
     "source": [
      "# simple web.py app to say hello to visitors\n",
      "    \n",
      "    import web\n",
      "\n",
      "    urls = (\n",
      "        '/', 'Index',\n",
      "        )\n",
      "\n",
      "    class Index(object):\n",
      "        def GET(self):\n",
      "            return 'Hello!'\n",
      "\n",
      "    if __name__ == '__main__':\n",
      "        app = web.application(urls, globals())\n",
      "        app.run()"
     ]
    },
    {
     "cell_type": "markdown",
     "metadata": {},
     "source": [
      "# say hello to visitor with name\n",
      "\n",
      "    \n",
      "    import web\n",
      "\n",
      "    urls = (\n",
      "        '/', 'Index',\n",
      "        '/([a-zA-Z]+)', 'HelloName', # regular expression (regexp) to catch word of any length\n",
      "        )\n",
      "\n",
      "    class Index(object):\n",
      "        def GET(self):\n",
      "            return 'Hello!'\n",
      "\n",
      "    class HelloName(object):\n",
      "        def GET(self, name): # regexp was passed as argument with the request\n",
      "            return 'Hello, %s!' % name\n",
      "\n",
      "    if __name__ == '__main__':\n",
      "        app = web.application(urls, globals())\n",
      "        app.run()"
     ]
    },
    {
     "cell_type": "markdown",
     "metadata": {},
     "source": [
      "# web app to make a resume\n",
      "\n",
      "    import web\n",
      "    import requests\n",
      "\n",
      "    urls = (\n",
      "        '/', 'Index',\n",
      "        '/([a-zA-Z]+)', 'Profile',\n",
      "        )\n",
      "\n",
      "    # dir for all templates, name of template corresponds to class\n",
      "    render = web.template.render('templates')\n",
      "    \n",
      "    class Index(object):\n",
      "        def GET(self):\n",
      "            return 'Hello!'\n",
      "\n",
      "    class Profile(object):\n",
      "        def GET(self, handle): # regexp was passed as argument with the request\n",
      "            base_url = 'https://api.github.com/users/'\n",
      "            req = requests.get(base_url + handle)\n",
      "            resp = req.json()\n",
      "            avatar = resp['avatar_url']\n",
      "            name = resp['name']\n",
      "            url = resp['html_url']\n",
      "            return render.profile(handle, name, avatar, url)\n",
      "\n",
      "    if __name__ == '__main__':\n",
      "        app = web.application(urls, globals())\n",
      "        app.run()\n",
      "\n",
      "## html template code. It's located under templates/profile.html\n",
      "\n",
      "    $def with (handle, name, avatar, url)\n",
      "    <html lang=\"en\">\n",
      "        <head>\n",
      "            <meta charset=\"utf-8\">\n",
      "            <title>Resume of $handle</title>\n",
      "        </head>\n",
      "        <body>\n",
      "            <h1>This is a resume for $name</h1>\n",
      "            <p><img src=\"$avatar\" /></p>\n",
      "            <p>Repositories of code $name has written can be found at: <a href=\"$url\">$url</a>.</p>\n",
      "        </body>\n",
      "    </html>"
     ]
    }
   ],
   "metadata": {}
  }
 ]
}