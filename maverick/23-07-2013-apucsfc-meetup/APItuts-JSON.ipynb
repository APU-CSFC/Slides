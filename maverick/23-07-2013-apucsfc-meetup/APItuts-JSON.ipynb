{
 "metadata": {
  "name": "APItuts-JSON"
 },
 "nbformat": 3,
 "nbformat_minor": 0,
 "worksheets": [
  {
   "cells": [
    {
     "cell_type": "markdown",
     "metadata": {},
     "source": [
      "# Reading JSON from API(s)"
     ]
    },
    {
     "cell_type": "markdown",
     "metadata": {},
     "source": [
      "## import the necessary library"
     ]
    },
    {
     "cell_type": "code",
     "collapsed": false,
     "input": [
      "import requests\n",
      "import json"
     ],
     "language": "python",
     "metadata": {},
     "outputs": [],
     "prompt_number": 1
    },
    {
     "cell_type": "markdown",
     "metadata": {},
     "source": [
      "### define the base url of the API you want to read from. (We'll be using github public API)"
     ]
    },
    {
     "cell_type": "code",
     "collapsed": false,
     "input": [
      "base_url = 'https://api.github.com/users/'"
     ],
     "language": "python",
     "metadata": {},
     "outputs": [],
     "prompt_number": 5
    },
    {
     "cell_type": "code",
     "collapsed": false,
     "input": [
      "# let's define username on github.\n",
      "username = 'mavjs'"
     ],
     "language": "python",
     "metadata": {},
     "outputs": [],
     "prompt_number": 6
    },
    {
     "cell_type": "code",
     "collapsed": false,
     "input": [
      "req = requests.get(base_url+username)"
     ],
     "language": "python",
     "metadata": {},
     "outputs": [],
     "prompt_number": 11
    },
    {
     "cell_type": "code",
     "collapsed": false,
     "input": [
      "resp = req.json()\n",
      "resp"
     ],
     "language": "python",
     "metadata": {},
     "outputs": [
      {
       "output_type": "pyout",
       "prompt_number": 26,
       "text": [
        "{u'avatar_url': u'https://secure.gravatar.com/avatar/109a7d6901b3128dcb31defd58ead800?d=https://a248.e.akamai.net/assets.github.com%2Fimages%2Fgravatars%2Fgravatar-user-420.png',\n",
        " u'bio': None,\n",
        " u'blog': u'http://www.mavjs.org',\n",
        " u'company': None,\n",
        " u'created_at': u'2011-06-28T17:38:32Z',\n",
        " u'email': None,\n",
        " u'events_url': u'https://api.github.com/users/mavjs/events{/privacy}',\n",
        " u'followers': 6,\n",
        " u'followers_url': u'https://api.github.com/users/mavjs/followers',\n",
        " u'following': 0,\n",
        " u'following_url': u'https://api.github.com/users/mavjs/following{/other_user}',\n",
        " u'gists_url': u'https://api.github.com/users/mavjs/gists{/gist_id}',\n",
        " u'gravatar_id': u'109a7d6901b3128dcb31defd58ead800',\n",
        " u'hireable': False,\n",
        " u'html_url': u'https://github.com/mavjs',\n",
        " u'id': 881987,\n",
        " u'location': None,\n",
        " u'login': u'mavjs',\n",
        " u'name': u'Maverick JS',\n",
        " u'organizations_url': u'https://api.github.com/users/mavjs/orgs',\n",
        " u'public_gists': 0,\n",
        " u'public_repos': 20,\n",
        " u'received_events_url': u'https://api.github.com/users/mavjs/received_events',\n",
        " u'repos_url': u'https://api.github.com/users/mavjs/repos',\n",
        " u'starred_url': u'https://api.github.com/users/mavjs/starred{/owner}{/repo}',\n",
        " u'subscriptions_url': u'https://api.github.com/users/mavjs/subscriptions',\n",
        " u'type': u'User',\n",
        " u'updated_at': u'2013-07-21T18:35:51Z',\n",
        " u'url': u'https://api.github.com/users/mavjs'}"
       ]
      }
     ],
     "prompt_number": 26
    },
    {
     "cell_type": "code",
     "collapsed": false,
     "input": [
      "avatar = resp['avatar_url'].split('?')[0]"
     ],
     "language": "python",
     "metadata": {},
     "outputs": [],
     "prompt_number": 18
    },
    {
     "cell_type": "code",
     "collapsed": false,
     "input": [
      "print avatar"
     ],
     "language": "python",
     "metadata": {},
     "outputs": [
      {
       "output_type": "stream",
       "stream": "stdout",
       "text": [
        "https://secure.gravatar.com/avatar/109a7d6901b3128dcb31defd58ead800\n"
       ]
      }
     ],
     "prompt_number": 19
    },
    {
     "cell_type": "code",
     "collapsed": false,
     "input": [
      "# just to display the image from the url for completeness\n",
      "from IPython.display import Image"
     ],
     "language": "python",
     "metadata": {},
     "outputs": [],
     "prompt_number": 20
    },
    {
     "cell_type": "code",
     "collapsed": false,
     "input": [
      "Image(url=avatar)"
     ],
     "language": "python",
     "metadata": {},
     "outputs": [
      {
       "html": [
        "<img src=\"https://secure.gravatar.com/avatar/109a7d6901b3128dcb31defd58ead800\" />"
       ],
       "output_type": "pyout",
       "prompt_number": 21,
       "text": [
        "<IPython.core.display.Image at 0x1a24d50>"
       ]
      }
     ],
     "prompt_number": 21
    },
    {
     "cell_type": "code",
     "collapsed": false,
     "input": [
      "name = resp['name']"
     ],
     "language": "python",
     "metadata": {},
     "outputs": [],
     "prompt_number": 23
    },
    {
     "cell_type": "code",
     "collapsed": false,
     "input": [
      "print name"
     ],
     "language": "python",
     "metadata": {},
     "outputs": [
      {
       "output_type": "stream",
       "stream": "stdout",
       "text": [
        "Maverick JS\n"
       ]
      }
     ],
     "prompt_number": 24
    },
    {
     "cell_type": "code",
     "collapsed": false,
     "input": [
      "githuburl = resp['html_url']\n",
      "print githuburl"
     ],
     "language": "python",
     "metadata": {},
     "outputs": [
      {
       "output_type": "stream",
       "stream": "stdout",
       "text": [
        "https://github.com/mavjs\n"
       ]
      }
     ],
     "prompt_number": 25
    }
   ],
   "metadata": {}
  }
 ]
}