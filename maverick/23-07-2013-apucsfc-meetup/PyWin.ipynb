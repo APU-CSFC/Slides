{
 "metadata": {
  "name": "PyWin"
 },
 "nbformat": 3,
 "nbformat_minor": 0,
 "worksheets": [
  {
   "cells": [
    {
     "cell_type": "markdown",
     "metadata": {},
     "source": [
      "# How to get python and ipython on windows\n",
      "\n",
      "## get python installed first.\n",
      "* get python 2.7 for windows at: http://python.org/download/\n",
      "* install it.\n",
      "* add python path to your environmental variables.\n",
      "* [Right Click] My Computer -> Properties -> Advanced System Settings -> Advanced (tab) -> Environmental Variables -> System Variables -> (find) PATH\n",
      "* [add] ;C:\\Python27;C:\\Python27\\Scripts\\\n",
      "\n",
      "## get pip - a tool for installing and managing Python packages installed\n",
      "* download http://python-distribute.org/distribute_setup.py\n",
      "* open **cmd.exe**\n",
      "* go to your Downloads directory: cd Downloads\n",
      "* python distribute_setup.py\n",
      "* easy_install pip (might need to restart **cmd.exe**)\n",
      "\n",
      "## get ipython installed via pip\n",
      "* open **cmd.exe** if not already.\n",
      "* pip install ipython\n",
      "\n",
      "## get ipython installed via package managers\n",
      "* open **terminal**\n",
      "\n",
      "### for Red Hat/CentOS/Fedora and rpm/yum based distros:\n",
      "\n",
      "    yum install python-ipython -y\n",
      "\n",
      "###for Debian/Ubuntu/Linux Mint and apt-get/deb based distros:\n",
      "\n",
      "    apt-get install ipython -y\n",
      "\n",
      "## get requests installed for the tutorial\n",
      "* open **cmd.exe** if not already.\n",
      "* pip install requests"
     ]
    }
   ],
   "metadata": {}
  }
 ]
}